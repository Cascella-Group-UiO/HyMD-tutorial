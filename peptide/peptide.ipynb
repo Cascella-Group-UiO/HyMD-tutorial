{
 "cells": [
  {
   "cell_type": "markdown",
   "id": "complicated-globe",
   "metadata": {},
   "source": [
    "| <img src=\"peptide.png\" alt=\"peptide.png\" width=\"600\"/> | \n",
    "|:-:|\n",
    "| Final state, peptide inside DOPC membrane, `0.3 ns`|"
   ]
  },
  {
   "cell_type": "markdown",
   "id": "seeing-approach",
   "metadata": {},
   "source": [
    "### Example: Peptide\n",
    "Using a pre-equilibrated simulation box with a DOPC bilayer and counter-ions in water, we insert a simple homopoly-peptide, run a short simulation, and examine the resulting trajectory."
   ]
  },
  {
   "cell_type": "markdown",
   "id": "adopted-foster",
   "metadata": {},
   "source": [
    "### Run the simulation\n",
    "We the simulation:\n",
    "```bash\n",
    "mpirun -n 6 python3 ${HYMD}        \\\n",
    "                    peptide.toml   \\\n",
    "                    peptide.HDF5   \\\n",
    "                    --seed 1       \\\n",
    "                    --verbose 1\n",
    "```"
   ]
  }
 ],
 "metadata": {
  "kernelspec": {
   "display_name": "Python 3",
   "language": "python",
   "name": "python3"
  },
  "language_info": {
   "codemirror_mode": {
    "name": "ipython",
    "version": 3
   },
   "file_extension": ".py",
   "mimetype": "text/x-python",
   "name": "python",
   "nbconvert_exporter": "python",
   "pygments_lexer": "ipython3",
   "version": "3.9.7"
  }
 },
 "nbformat": 4,
 "nbformat_minor": 5
}
