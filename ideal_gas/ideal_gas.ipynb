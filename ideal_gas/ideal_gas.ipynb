{
 "cells": [
  {
   "cell_type": "markdown",
   "id": "solid-condition",
   "metadata": {},
   "source": [
    "### Example: Ideal gas\n",
    "We setup a system of non-interacting particles, run a short simulation, and examine the resulting trajectory."
   ]
  },
  {
   "cell_type": "code",
   "execution_count": 19,
   "id": "excited-making",
   "metadata": {},
   "outputs": [],
   "source": [
    "import h5py\n",
    "import numpy as np\n",
    "\n",
    "\n",
    "def setup_system(box_size, number_density, out_path):\n",
    "    \"\"\"Setup a simple system of independent particles with no bonds\n",
    "    \n",
    "    Parameters\n",
    "    ----------\n",
    "    box_size : list of float\n",
    "        Simulation box size in nm.\n",
    "    number_density : float\n",
    "        Number density per nm squared of particles in the simulation box.\n",
    "    out_path : str\n",
    "        Path of the created structure file.\n",
    "    \"\"\"\n",
    "    box_size = np.asarray(box_size, dtype=np.float32)\n",
    "    volume = np.prod(box_size)\n",
    "    n_particles = int(number_density * volume)\n",
    "    \n",
    "    with h5py.File(out_path, \"w\") as out_file:\n",
    "        position_dataset = out_file.create_dataset(\n",
    "            \"coordinates\",\n",
    "            (1, n_particles, box_size.size,),\n",
    "            dtype=\"float32\",\n",
    "        )\n",
    "        types_dataset = out_file.create_dataset(\n",
    "            \"types\",\n",
    "            (n_particles,),\n",
    "            dtype=\"i\",\n",
    "        )\n",
    "        names_dataset = out_file.create_dataset(\n",
    "            \"names\",\n",
    "            (n_particles,),\n",
    "            dtype=\"S10\",\n",
    "        )\n",
    "        indices_dataset = out_file.create_dataset(\n",
    "            \"indices\",\n",
    "            (n_particles,),\n",
    "            dtype=\"i\",\n",
    "        )\n",
    "        \n",
    "        types_dataset[...] = 0\n",
    "        names_dataset[...] = np.string_(\"A\")\n",
    "        indices_dataset[...] = np.arange(n_particles)\n",
    "        position_dataset[...] = np.random.uniform(\n",
    "            low=0.0, high=box_size, size=(1, n_particles, box_size.size),\n",
    "        )\n",
    "    \n",
    "\n",
    "# 125 particles in a 5nm x 5nm x 5nm simulation box.\n",
    "setup_system([5, 5, 5], 1.0, \"ideal_gas.HDF5\")"
   ]
  },
  {
   "cell_type": "markdown",
   "id": "surprised-paint",
   "metadata": {},
   "source": [
    "### Run the simulation\n",
    "Disable the field interactions with `--disable-field` and make sure the velocity and forces are output to the trajectory file with `--velocity-output` and `--force-output`.\n",
    "```bash\n",
    "mpirun -n 6 python3 /Users/mortenledum/Documents/HyMD/hymd/__main__.py \\\n",
    "                    ideal_gas.toml    \\\n",
    "                    ideal_gas.HDF5    \\\n",
    "                    --disable-field   \\\n",
    "                    --velocity-output \\\n",
    "                    --force-output    \\\n",
    "                    --seed 1          \\\n",
    "                    --verbose 2\n",
    "```"
   ]
  },
  {
   "cell_type": "markdown",
   "id": "wound-excellence",
   "metadata": {},
   "source": [
    "### Examine the trajectory"
   ]
  },
  {
   "cell_type": "code",
   "execution_count": 18,
   "id": "eight-proposal",
   "metadata": {},
   "outputs": [
    {
     "data": {
      "image/png": "[encoded data removed]",
      "text/plain": [
       "<Figure size 864x432 with 3 Axes>"
      ]
     },
     "metadata": {
      "needs_background": "light"
     },
     "output_type": "display_data"
    }
   ],
   "source": [
    "import h5py\n",
    "import numpy as np\n",
    "import matplotlib.pyplot as plt\n",
    "\n",
    "with h5py.File(\"sim.h5\", \"r\") as in_file:\n",
    "    time = in_file[\"/particles/all/position/time\"][...]\n",
    "    positions = in_file[\"/particles/all/position/value\"][...]\n",
    "    velocities = in_file[\"/particles/all/velocity/value\"][...]\n",
    "    forces = in_file[\"/particles/all/force/value\"][...]\n",
    "    kinetic_energy = in_file[\"/observables/kinetic_energy/value\"][...]\n",
    "    potential_energy = in_file[\"/observables/potential_energy/value\"][...]\n",
    "    n_particles = positions.shape[1]\n",
    "\n",
    "fig, axs = plt.subplots(1, 3)\n",
    "fig.set_figwidth(12)\n",
    "fig.set_figheight(6)\n",
    "font_opts = {\"fontsize\": 15}\n",
    "\n",
    "axs[0].plot(time, kinetic_energy / n_particles, marker=\"o\")\n",
    "axs[0].set_ylabel(\"kinetic energy per particle, kJ/mol\", **font_opts)\n",
    "\n",
    "axs[1].plot(time, potential_energy / n_particles, marker=\"x\")\n",
    "axs[1].set_ylabel(\"potential energy per particle, kJ/mol\", **font_opts)\n",
    "\n",
    "axs[2].plot(time, np.linalg.norm(velocities, axis=2))\n",
    "axs[2].set_ylabel(\"normed particle velocities, ps/nm\", **font_opts)\n",
    "\n",
    "for ax in axs:\n",
    "    ax.set_xlabel(\"time, ps\", **font_opts)\n",
    "fig.tight_layout()\n",
    "plt.show()"
   ]
  },
  {
   "cell_type": "code",
   "execution_count": null,
   "id": "dimensional-offense",
   "metadata": {},
   "outputs": [],
   "source": []
  }
 ],
 "metadata": {
  "kernelspec": {
   "display_name": "Python 3",
   "language": "python",
   "name": "python3"
  },
  "language_info": {
   "codemirror_mode": {
    "name": "ipython",
    "version": 3
   },
   "file_extension": ".py",
   "mimetype": "text/x-python",
   "name": "python",
   "nbconvert_exporter": "python",
   "pygments_lexer": "ipython3",
   "version": "3.9.7"
  }
 },
 "nbformat": 4,
 "nbformat_minor": 5
}
