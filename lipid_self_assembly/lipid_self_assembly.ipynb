{
 "cells": [
  {
   "cell_type": "markdown",
   "id": "charming-sterling",
   "metadata": {},
   "source": [
    "| <img src=\"dispersed_state.png\" alt=\"dispersed_state.png\" width=\"300\"/> | <img src=\"intermediate.png\" alt=\"intermediate.png\" width=\"300\"/> |<img src=\"bilayer.png\" alt=\"bilayer.png\" width=\"300\"/> |\n",
    "|:-:|:-:|:-:|\n",
    "|Dispersed state, `0 ns`|Intermediate state, `0.375 ns`|Self-assembled bilayer, `0.75 ns`|"
   ]
  },
  {
   "cell_type": "markdown",
   "id": "noted-difficulty",
   "metadata": {},
   "source": [
    "### Example: Lipid self assembly\n",
    "Using a pre-equilibrated simulation box with randomly dispersed DPPC lipids in water, we run a short simulation, and examine the resulting bilayer."
   ]
  },
  {
   "cell_type": "markdown",
   "id": "major-camcorder",
   "metadata": {},
   "source": [
    "### Run the simulation\n",
    "We the simulation:\n",
    "```bash\n",
    "mpirun -n 6 python3 ${HYMD}                    \\\n",
    "                    lipid_self_assembly.toml   \\\n",
    "                    lipid_self_assembly.HDF5   \\\n",
    "                    --seed 1                   \\\n",
    "                    --verbose 1\n",
    "```"
   ]
  }
 ],
 "metadata": {
  "kernelspec": {
   "display_name": "Python 3",
   "language": "python",
   "name": "python3"
  },
  "language_info": {
   "codemirror_mode": {
    "name": "ipython",
    "version": 3
   },
   "file_extension": ".py",
   "mimetype": "text/x-python",
   "name": "python",
   "nbconvert_exporter": "python",
   "pygments_lexer": "ipython3",
   "version": "3.9.7"
  }
 },
 "nbformat": 4,
 "nbformat_minor": 5
}
