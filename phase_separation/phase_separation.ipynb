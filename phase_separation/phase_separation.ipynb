{
 "cells": [
  {
   "cell_type": "markdown",
   "id": "conditional-pipeline",
   "metadata": {},
   "source": [
    "### Example: Phase separation\n",
    "We setup a system of randomly dispersed `\"A\"` and `\"B\"` type particles, in equal proportions, run a short simulation, and examine the resulting trajectory."
   ]
  },
  {
   "cell_type": "code",
   "execution_count": 10,
   "id": "compound-crash",
   "metadata": {},
   "outputs": [],
   "source": [
    "import h5py\n",
    "import numpy as np\n",
    "\n",
    "\n",
    "def setup_system(box_size, number_density, out_path):\n",
    "    \"\"\"Setup a simple system of independent particles with no bonds\n",
    "    \n",
    "    Parameters\n",
    "    ----------\n",
    "    box_size : list of float\n",
    "        Simulation box size in nm.\n",
    "    number_density : float\n",
    "        Number density per nm squared of particles in the simulation box.\n",
    "    out_path : str\n",
    "        Path of the created structure file.\n",
    "    \"\"\"\n",
    "    box_size = np.asarray(box_size, dtype=np.float32)\n",
    "    volume = np.prod(box_size)\n",
    "    n_particles = int(number_density * volume)\n",
    "    n_particles -= np.mod(n_particles, 2)\n",
    "    \n",
    "    with h5py.File(out_path, \"w\") as out_file:\n",
    "        position_dataset = out_file.create_dataset(\n",
    "            \"coordinates\",\n",
    "            (1, n_particles, box_size.size,),\n",
    "            dtype=\"float32\",\n",
    "        )\n",
    "        types_dataset = out_file.create_dataset(\n",
    "            \"types\",\n",
    "            (n_particles,),\n",
    "            dtype=\"i\",\n",
    "        )\n",
    "        names_dataset = out_file.create_dataset(\n",
    "            \"names\",\n",
    "            (n_particles,),\n",
    "            dtype=\"S10\",\n",
    "        )\n",
    "        indices_dataset = out_file.create_dataset(\n",
    "            \"indices\",\n",
    "            (n_particles,),\n",
    "            dtype=\"i\",\n",
    "        )\n",
    "        \n",
    "        types_dataset[:n_particles//2] = 0\n",
    "        types_dataset[n_particles//2:] = 1\n",
    "        names_dataset[:n_particles//2] = np.string_(\"A\")\n",
    "        names_dataset[n_particles//2:] = np.string_(\"B\")\n",
    "        indices_dataset[...] = np.arange(n_particles)\n",
    "        position_dataset[...] = np.random.uniform(\n",
    "            low=0.0, high=box_size, size=(1, n_particles, box_size.size),\n",
    "        )\n",
    "\n",
    "# 1042 particles in a 5nm x 5nm x 5nm simulation box.\n",
    "setup_system([10, 10, 10], 8.333, \"phase_separation_10x10x10nm.HDF5\")"
   ]
  },
  {
   "cell_type": "markdown",
   "id": "greek-guitar",
   "metadata": {},
   "source": [
    "### Run the simulation\n",
    "```bash\n",
    "mpirun -n 6 python3 /Users/mortenledum/Documents/HyMD/hymd/__main__.py \\\n",
    "                    phase_separation.toml      \\\n",
    "                    phase_separation.HDF5      \\\n",
    "                    --seed 1                   \\\n",
    "                    --verbose 1\n",
    "```"
   ]
  },
  {
   "cell_type": "code",
   "execution_count": 9,
   "id": "governmental-desire",
   "metadata": {},
   "outputs": [
    {
     "name": "stdout",
     "output_type": "stream",
     "text": [
      "total 1232\r\n",
      "drwxr-xr-x@  9 mortenledum  staff   288B Dec 19 01:54 \u001b[34m.\u001b[m\u001b[m\r\n",
      "drwxr-xr-x@ 12 mortenledum  staff   384B Dec 19 01:47 \u001b[34m..\u001b[m\u001b[m\r\n",
      "drwxr-xr-x@  3 mortenledum  staff    96B Dec 19 01:47 \u001b[34m.ipynb_checkpoints\u001b[m\u001b[m\r\n",
      "-rw-r--r--   1 mortenledum  staff    33K Dec 19 01:35 phase_separation.HDF5\r\n",
      "-rw-r--r--   1 mortenledum  staff   3.7K Dec 19 01:54 phase_separation.ipynb\r\n",
      "-rw-r--r--   1 mortenledum  staff   801B Dec 19 01:54 phase_separation.toml\r\n",
      "-rw-r--r--   1 mortenledum  staff   187K Dec 19 01:54 sim.H5\r\n",
      "-rw-r--r--   1 mortenledum  staff    70K Dec 19 01:54 sim.log\r\n",
      "-rw-r--r--   1 mortenledum  staff   190K Dec 19 01:54 sim_chi=1.H5\r\n"
     ]
    }
   ],
   "source": [
    "!ls -lha"
   ]
  },
  {
   "cell_type": "code",
   "execution_count": null,
   "id": "operating-punch",
   "metadata": {},
   "outputs": [],
   "source": []
  }
 ],
 "metadata": {
  "kernelspec": {
   "display_name": "Python 3",
   "language": "python",
   "name": "python3"
  },
  "language_info": {
   "codemirror_mode": {
    "name": "ipython",
    "version": 3
   },
   "file_extension": ".py",
   "mimetype": "text/x-python",
   "name": "python",
   "nbconvert_exporter": "python",
   "pygments_lexer": "ipython3",
   "version": "3.9.7"
  }
 },
 "nbformat": 4,
 "nbformat_minor": 5
}
